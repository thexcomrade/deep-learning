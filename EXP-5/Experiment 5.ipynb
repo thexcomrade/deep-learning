{
  "nbformat": 4,
  "nbformat_minor": 0,
  "metadata": {
    "colab": {
      "provenance": []
    },
    "kernelspec": {
      "name": "python3",
      "display_name": "Python 3"
    },
    "language_info": {
      "name": "python"
    }
  },
  "cells": [
    {
      "cell_type": "code",
      "source": [
        "import tensorflow as tf\n",
        "from tensorflow.keras.datasets import mnist\n",
        "from tensorflow.keras.utils import to_categorical"
      ],
      "metadata": {
        "id": "XWmKE4ZuMas8"
      },
      "execution_count": 16,
      "outputs": []
    },
    {
      "cell_type": "code",
      "source": [
        "(train_images, train_labels), (test_images, test_labels) = mnist.load_data()\n",
        "\n",
        "train_images, test_images = train_images / 255.0, test_images / 255.0\n",
        "\n",
        "train_labels, test_labels = to_categorical(train_labels), to_categorical(test_labels)"
      ],
      "metadata": {
        "id": "bJoIj0hqMag7"
      },
      "execution_count": 17,
      "outputs": []
    },
    {
      "cell_type": "code",
      "source": [
        "model = tf.keras.Sequential([\n",
        " tf.keras.layers.Conv2D(32, 3, activation='relu', input_shape=(28, 28, 1)),\n",
        " tf.keras.layers.MaxPooling2D(),\n",
        " tf.keras.layers.Conv2D(64, 3, activation='relu'),\n",
        " tf.keras.layers.MaxPooling2D(),\n",
        " tf.keras.layers.Conv2D(64, 3, activation='relu'),\n",
        " tf.keras.layers.Flatten(),\n",
        " tf.keras.layers.Dense(64, activation='relu'),\n",
        " tf.keras.layers.Dense(10, activation='softmax')\n",
        "])"
      ],
      "metadata": {
        "id": "lF7V9o2eMaWZ"
      },
      "execution_count": 18,
      "outputs": []
    },
    {
      "cell_type": "code",
      "source": [
        "model.compile(optimizer='adam', loss='categorical_crossentropy', metrics=['accuracy'])\n",
        "model.fit(train_images, train_labels, epochs=5, batch_size=64, validation_split=0.2)"
      ],
      "metadata": {
        "colab": {
          "base_uri": "https://localhost:8080/"
        },
        "id": "BGzhXREFMaLK",
        "outputId": "c9764133-d32a-4cf4-f657-482a806cebb3"
      },
      "execution_count": 19,
      "outputs": [
        {
          "output_type": "stream",
          "name": "stdout",
          "text": [
            "Epoch 1/5\n",
            "\u001b[1m750/750\u001b[0m \u001b[32m━━━━━━━━━━━━━━━━━━━━\u001b[0m\u001b[37m\u001b[0m \u001b[1m24s\u001b[0m 31ms/step - accuracy: 0.8607 - loss: 0.4780 - val_accuracy: 0.9730 - val_loss: 0.0963\n",
            "Epoch 2/5\n",
            "\u001b[1m750/750\u001b[0m \u001b[32m━━━━━━━━━━━━━━━━━━━━\u001b[0m\u001b[37m\u001b[0m \u001b[1m41s\u001b[0m 31ms/step - accuracy: 0.9804 - loss: 0.0629 - val_accuracy: 0.9815 - val_loss: 0.0651\n",
            "Epoch 3/5\n",
            "\u001b[1m750/750\u001b[0m \u001b[32m━━━━━━━━━━━━━━━━━━━━\u001b[0m\u001b[37m\u001b[0m \u001b[1m40s\u001b[0m 30ms/step - accuracy: 0.9859 - loss: 0.0446 - val_accuracy: 0.9858 - val_loss: 0.0473\n",
            "Epoch 4/5\n",
            "\u001b[1m750/750\u001b[0m \u001b[32m━━━━━━━━━━━━━━━━━━━━\u001b[0m\u001b[37m\u001b[0m \u001b[1m22s\u001b[0m 30ms/step - accuracy: 0.9902 - loss: 0.0292 - val_accuracy: 0.9883 - val_loss: 0.0409\n",
            "Epoch 5/5\n",
            "\u001b[1m750/750\u001b[0m \u001b[32m━━━━━━━━━━━━━━━━━━━━\u001b[0m\u001b[37m\u001b[0m \u001b[1m23s\u001b[0m 31ms/step - accuracy: 0.9918 - loss: 0.0234 - val_accuracy: 0.9877 - val_loss: 0.0449\n"
          ]
        },
        {
          "output_type": "execute_result",
          "data": {
            "text/plain": [
              "<keras.src.callbacks.history.History at 0x7ad15e195880>"
            ]
          },
          "metadata": {},
          "execution_count": 19
        }
      ]
    },
    {
      "cell_type": "code",
      "execution_count": 21,
      "metadata": {
        "colab": {
          "base_uri": "https://localhost:8080/"
        },
        "id": "--TZriglJcvJ",
        "outputId": "5a3c9c0a-312b-403d-931c-488b18b465a6"
      },
      "outputs": [
        {
          "output_type": "stream",
          "name": "stdout",
          "text": [
            "\u001b[1m313/313\u001b[0m \u001b[32m━━━━━━━━━━━━━━━━━━━━\u001b[0m\u001b[37m\u001b[0m \u001b[1m2s\u001b[0m 6ms/step - accuracy: 0.9868 - loss: 0.0433\n",
            "\n",
            "Test Accuracy : 98.94%\n"
          ]
        }
      ],
      "source": [
        "_, test_acc = model.evaluate(test_images, test_labels)\n",
        "print(f\"\\nTest Accuracy : {round(test_acc * 100, 4)}%\")\n"
      ]
    },
    {
      "cell_type": "code",
      "source": [
        "import matplotlib.pyplot as plt\n",
        "import numpy as np\n",
        "\n",
        "# Pick random indices for sample test images\n",
        "num_samples = 8\n",
        "indices = np.random.choice(len(test_images), num_samples, replace=False)\n",
        "\n",
        "# Get the selected images and labels\n",
        "sample_images = test_images[indices]\n",
        "sample_labels = test_labels[indices]\n",
        "\n",
        "# Reshape if needed (since test_images are 28x28 and model expects 28x28x1)\n",
        "sample_images_reshaped = sample_images.reshape(-1, 28, 28, 1)\n",
        "\n",
        "# Predict\n",
        "predictions = model.predict(sample_images_reshaped)\n",
        "predicted_labels = np.argmax(predictions, axis=1)\n",
        "true_labels = np.argmax(sample_labels, axis=1)\n",
        "\n",
        "# Plot\n",
        "plt.figure(figsize=(15, 4))\n",
        "for i in range(num_samples):\n",
        "    plt.subplot(1, num_samples, i + 1)\n",
        "    plt.imshow(sample_images[i], cmap='gray')\n",
        "    plt.axis('off')\n",
        "    plt.title(f\"Pred: {predicted_labels[i]}\\nTrue: {true_labels[i]}\", fontsize=24)\n",
        "plt.tight_layout()\n",
        "plt.show()\n"
      ],
      "metadata": {
        "colab": {
          "base_uri": "https://localhost:8080/",
          "height": 284
        },
        "id": "mDlwkQgVPhjE",
        "outputId": "0ce4e488-7719-4220-d8ba-2c3a5142e88b"
      },
      "execution_count": 29,
      "outputs": [
        {
          "output_type": "stream",
          "name": "stdout",
          "text": [
            "\u001b[1m1/1\u001b[0m \u001b[32m━━━━━━━━━━━━━━━━━━━━\u001b[0m\u001b[37m\u001b[0m \u001b[1m0s\u001b[0m 24ms/step\n"
          ]
        },
        {
          "output_type": "display_data",
          "data": {
            "text/plain": [
              "<Figure size 1500x400 with 8 Axes>"
            ],
            "image/png": "[encoded data removed]"
          },
          "metadata": {}
        }
      ]
    }
  ]
}