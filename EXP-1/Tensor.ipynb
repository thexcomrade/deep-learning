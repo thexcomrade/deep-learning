{
 "cells": [
  {
   "cell_type": "code",
   "execution_count": 3,
   "id": "e933299d-fe28-4648-87b7-66ed94cfeba3",
   "metadata": {},
   "outputs": [
    {
     "name": "stdout",
     "output_type": "stream",
     "text": [
      "Defaulting to user installation because normal site-packages is not writeable\n",
      "Requirement already satisfied: tensorflow in ./.local/lib/python3.10/site-packages (2.17.0)\n",
      "Requirement already satisfied: astunparse>=1.6.0 in ./.local/lib/python3.10/site-packages (from tensorflow) (1.6.3)\n",
      "Requirement already satisfied: absl-py>=1.0.0 in ./.local/lib/python3.10/site-packages (from tensorflow) (2.1.0)\n",
      "Requirement already satisfied: h5py>=3.10.0 in ./.local/lib/python3.10/site-packages (from tensorflow) (3.11.0)\n",
      "Requirement already satisfied: keras>=3.2.0 in ./.local/lib/python3.10/site-packages (from tensorflow) (3.5.0)\n",
      "Requirement already satisfied: libclang>=13.0.0 in ./.local/lib/python3.10/site-packages (from tensorflow) (18.1.1)\n",
      "Requirement already satisfied: numpy<2.0.0,>=1.23.5 in ./.local/lib/python3.10/site-packages (from tensorflow) (1.26.4)\n",
      "Requirement already satisfied: packaging in ./.local/lib/python3.10/site-packages (from tensorflow) (24.1)\n",
      "Requirement already satisfied: flatbuffers>=24.3.25 in ./.local/lib/python3.10/site-packages (from tensorflow) (24.3.25)\n",
      "Requirement already satisfied: protobuf!=4.21.0,!=4.21.1,!=4.21.2,!=4.21.3,!=4.21.4,!=4.21.5,<5.0.0dev,>=3.20.3 in ./.local/lib/python3.10/site-packages (from tensorflow) (4.25.4)\n",
      "Requirement already satisfied: wrapt>=1.11.0 in ./.local/lib/python3.10/site-packages (from tensorflow) (1.16.0)\n",
      "Requirement already satisfied: gast!=0.5.0,!=0.5.1,!=0.5.2,>=0.2.1 in ./.local/lib/python3.10/site-packages (from tensorflow) (0.6.0)\n",
      "Requirement already satisfied: grpcio<2.0,>=1.24.3 in ./.local/lib/python3.10/site-packages (from tensorflow) (1.65.5)\n",
      "Requirement already satisfied: termcolor>=1.1.0 in ./.local/lib/python3.10/site-packages (from tensorflow) (2.4.0)\n",
      "Requirement already satisfied: requests<3,>=2.21.0 in ./.local/lib/python3.10/site-packages (from tensorflow) (2.32.3)\n",
      "Requirement already satisfied: six>=1.12.0 in /usr/lib/python3/dist-packages (from tensorflow) (1.16.0)\n",
      "Requirement already satisfied: tensorboard<2.18,>=2.17 in ./.local/lib/python3.10/site-packages (from tensorflow) (2.17.1)\n",
      "Requirement already satisfied: tensorflow-io-gcs-filesystem>=0.23.1 in ./.local/lib/python3.10/site-packages (from tensorflow) (0.37.1)\n",
      "Requirement already satisfied: typing-extensions>=3.6.6 in ./.local/lib/python3.10/site-packages (from tensorflow) (4.12.2)\n",
      "Requirement already satisfied: google-pasta>=0.1.1 in ./.local/lib/python3.10/site-packages (from tensorflow) (0.2.0)\n",
      "Requirement already satisfied: opt-einsum>=2.3.2 in ./.local/lib/python3.10/site-packages (from tensorflow) (3.3.0)\n",
      "Requirement already satisfied: setuptools in /usr/lib/python3/dist-packages (from tensorflow) (59.6.0)\n",
      "Requirement already satisfied: ml-dtypes<0.5.0,>=0.3.1 in ./.local/lib/python3.10/site-packages (from tensorflow) (0.4.0)\n",
      "Requirement already satisfied: wheel<1.0,>=0.23.0 in /usr/lib/python3/dist-packages (from astunparse>=1.6.0->tensorflow) (0.37.1)\n",
      "Requirement already satisfied: rich in ./.local/lib/python3.10/site-packages (from keras>=3.2.0->tensorflow) (13.7.1)\n",
      "Requirement already satisfied: namex in ./.local/lib/python3.10/site-packages (from keras>=3.2.0->tensorflow) (0.0.8)\n",
      "Requirement already satisfied: optree in ./.local/lib/python3.10/site-packages (from keras>=3.2.0->tensorflow) (0.12.1)\n",
      "Requirement already satisfied: certifi>=2017.4.17 in /usr/lib/python3/dist-packages (from requests<3,>=2.21.0->tensorflow) (2020.6.20)\n",
      "Requirement already satisfied: idna<4,>=2.5 in /usr/lib/python3/dist-packages (from requests<3,>=2.21.0->tensorflow) (3.3)\n",
      "Requirement already satisfied: urllib3<3,>=1.21.1 in /usr/lib/python3/dist-packages (from requests<3,>=2.21.0->tensorflow) (1.26.5)\n",
      "Requirement already satisfied: charset-normalizer<4,>=2 in ./.local/lib/python3.10/site-packages (from requests<3,>=2.21.0->tensorflow) (3.3.2)\n",
      "Requirement already satisfied: markdown>=2.6.8 in ./.local/lib/python3.10/site-packages (from tensorboard<2.18,>=2.17->tensorflow) (3.7)\n",
      "Requirement already satisfied: tensorboard-data-server<0.8.0,>=0.7.0 in ./.local/lib/python3.10/site-packages (from tensorboard<2.18,>=2.17->tensorflow) (0.7.2)\n",
      "Requirement already satisfied: werkzeug>=1.0.1 in ./.local/lib/python3.10/site-packages (from tensorboard<2.18,>=2.17->tensorflow) (3.0.3)\n",
      "Requirement already satisfied: MarkupSafe>=2.1.1 in ./.local/lib/python3.10/site-packages (from werkzeug>=1.0.1->tensorboard<2.18,>=2.17->tensorflow) (2.1.5)\n",
      "Requirement already satisfied: pygments<3.0.0,>=2.13.0 in ./.local/lib/python3.10/site-packages (from rich->keras>=3.2.0->tensorflow) (2.18.0)\n",
      "Requirement already satisfied: markdown-it-py>=2.2.0 in ./.local/lib/python3.10/site-packages (from rich->keras>=3.2.0->tensorflow) (3.0.0)\n",
      "Requirement already satisfied: mdurl~=0.1 in ./.local/lib/python3.10/site-packages (from markdown-it-py>=2.2.0->rich->keras>=3.2.0->tensorflow) (0.1.2)\n",
      "Note: you may need to restart the kernel to use updated packages.\n"
     ]
    }
   ],
   "source": [
    "pip install tensorflow"
   ]
  },
  {
   "cell_type": "code",
   "execution_count": 4,
   "id": "fcdcfa5b-8f7e-4b25-8ed8-4a7504250ffc",
   "metadata": {},
   "outputs": [],
   "source": [
    "import tensorflow as tf"
   ]
  },
  {
   "cell_type": "markdown",
   "id": "7db6397e-afa5-4b04-98a7-de40b6d63904",
   "metadata": {},
   "source": [
    "1.Create a vector,scalar,matrix, and tensor with values of your choice using tf.constant()"
   ]
  },
  {
   "cell_type": "code",
   "execution_count": 5,
   "id": "76f553b2-3b23-47b1-848a-06d49304e05d",
   "metadata": {},
   "outputs": [
    {
     "name": "stdout",
     "output_type": "stream",
     "text": [
      "Scalar: tf.Tensor(7, shape=(), dtype=int32)\n",
      "Vector: tf.Tensor([1 2 3], shape=(3,), dtype=int32)\n",
      "Matrix: tf.Tensor(\n",
      "[[1 2]\n",
      " [3 4]], shape=(2, 2), dtype=int32)\n",
      "Tensor: tf.Tensor(\n",
      "[[[1 2]\n",
      "  [3 4]]\n",
      "\n",
      " [[5 6]\n",
      "  [7 8]]], shape=(2, 2, 2), dtype=int32)\n"
     ]
    }
   ],
   "source": [
    "scalar = tf.constant(7)\n",
    "print(\"Scalar:\", scalar)\n",
    "vector = tf.constant([1, 2, 3])\n",
    "print(\"Vector:\", vector)\n",
    "matrix = tf.constant([[1, 2], [3, 4]])\n",
    "print(\"Matrix:\", matrix)\n",
    "tensor = tf.constant([\n",
    "    [[1, 2], [3, 4]],\n",
    "    [[5, 6], [7, 8]]\n",
    "])\n",
    "print(\"Tensor:\", tensor)\n"
   ]
  },
  {
   "cell_type": "markdown",
   "id": "f0a33fad-755d-4c9b-9414-523ba75011c6",
   "metadata": {},
   "source": [
    "2.Find the shape,rank and size of the tensor "
   ]
  },
  {
   "cell_type": "code",
   "execution_count": 6,
   "id": "86958f75-50b4-4aac-9f4f-f9767dfd69c5",
   "metadata": {},
   "outputs": [
    {
     "name": "stdout",
     "output_type": "stream",
     "text": [
      "Shape of tensor: (2, 2, 2)\n",
      "Rank of tensor: 3\n",
      "Size of tensor: 8\n"
     ]
    }
   ],
   "source": [
    "shape = tensor.shape\n",
    "rank = tf.rank(tensor).numpy()  \n",
    "size = tf.size(tensor).numpy()  \n",
    "\n",
    "print(\"Shape of tensor:\", shape)\n",
    "print(\"Rank of tensor:\", rank)\n",
    "print(\"Size of tensor:\", size)"
   ]
  },
  {
   "cell_type": "markdown",
   "id": "27928974-96d2-472c-8456-4cda0366177e",
   "metadata": {},
   "source": [
    "3.create  two tensors contaibning random values between 0 and 1"
   ]
  },
  {
   "cell_type": "code",
   "execution_count": 7,
   "id": "853c3adf-d7f5-48ff-9132-f9129e2d0249",
   "metadata": {},
   "outputs": [
    {
     "name": "stdout",
     "output_type": "stream",
     "text": [
      "Tensor 1: tf.Tensor(\n",
      "[[5.3000212e-02 5.8544660e-01 5.3159177e-01 ... 5.1510334e-04\n",
      "  9.9385977e-02 1.6521311e-01]\n",
      " [1.0655892e-01 7.6928747e-01 3.5286391e-01 ... 4.3424571e-01\n",
      "  7.2878861e-01 1.9706655e-01]\n",
      " [2.7094877e-01 5.9896731e-01 3.2038152e-01 ... 2.4958789e-01\n",
      "  5.4024696e-02 1.9765258e-01]\n",
      " [1.6970515e-01 9.8061180e-01 9.5569682e-01 ... 6.2592149e-01\n",
      "  1.4336801e-01 6.8273425e-02]\n",
      " [4.8703492e-01 3.6633110e-01 3.4883344e-01 ... 9.4833004e-01\n",
      "  9.1235375e-01 3.2963800e-01]], shape=(5, 300), dtype=float32)\n",
      "Tensor 2: tf.Tensor(\n",
      "[[0.6958941  0.97483337 0.98602605 ... 0.8487148  0.0848521  0.38772297]\n",
      " [0.08486784 0.25289774 0.5215285  ... 0.72845733 0.01117563 0.9871025 ]\n",
      " [0.49232078 0.45286942 0.9640913  ... 0.58492494 0.38056266 0.61086464]\n",
      " [0.11769605 0.25116193 0.9101765  ... 0.65082216 0.5378654  0.30962908]\n",
      " [0.941239   0.87817216 0.5094656  ... 0.05957818 0.7978648  0.9987472 ]], shape=(5, 300), dtype=float32)\n"
     ]
    }
   ],
   "source": [
    "tensor_a = tf.random.uniform((5, 300), minval=0, maxval=1, dtype=tf.float32)\n",
    "tensor_b = tf.random.uniform((5, 300), minval=0, maxval=1, dtype=tf.float32)\n",
    "print(\"Tensor 1:\", tensor_a)\n",
    "print(\"Tensor 2:\", tensor_b)"
   ]
  },
  {
   "cell_type": "markdown",
   "id": "8c16a54f-7735-4e04-ac22-2f1fb08bc43d",
   "metadata": {},
   "source": [
    "4.Multiply the two tensors using matrix multiplication"
   ]
  },
  {
   "cell_type": "code",
   "execution_count": 8,
   "id": "652b9d81-cd98-4975-97cf-519513bf0772",
   "metadata": {},
   "outputs": [
    {
     "name": "stdout",
     "output_type": "stream",
     "text": [
      "Matrix Mul:\n",
      "tf.Tensor(\n",
      "[[76.34744  74.601425 74.3701   74.5726   75.33116 ]\n",
      " [79.49814  78.37714  77.430984 75.70791  78.4225  ]\n",
      " [78.34624  76.66594  72.158806 74.23645  73.73345 ]\n",
      " [75.96513  74.87295  76.28128  73.13519  74.257965]\n",
      " [77.13017  75.62932  74.6942   75.81073  72.212006]], shape=(5, 5), dtype=float32)\n"
     ]
    }
   ],
   "source": [
    "result_matrix_multiplication = tf.matmul(tensor_a, tensor_b, transpose_b=True)\n",
    "print(\"Matrix Mul:\")\n",
    "print(result_matrix_multiplication)\n"
   ]
  },
  {
   "cell_type": "markdown",
   "id": "2e142810-9185-41aa-a3d4-0e9707a96ae4",
   "metadata": {},
   "source": [
    "5.Multipy the two tensors using dot product"
   ]
  },
  {
   "cell_type": "code",
   "execution_count": 10,
   "id": "b8dd7563-e36f-41f4-b77e-2c8e071cd749",
   "metadata": {},
   "outputs": [
    {
     "name": "stdout",
     "output_type": "stream",
     "text": [
      "Matrix Multiplication Result Shape: (5, 5)\n",
      "Dot Product Result: tf.Tensor([76.34745  78.37713  72.158806 73.1352   72.21201 ], shape=(5,), dtype=float32)\n"
     ]
    }
   ],
   "source": [
    "result_dot_product = tf.reduce_sum(tf.multiply(tensor_a, tensor_b), axis=1)\n",
    "print(\"Matrix Multiplication Result Shape:\", result_matrix_multiplication.shape)\n",
    "print(\"Dot Product Result:\", result_dot_product)"
   ]
  },
  {
   "cell_type": "markdown",
   "id": "b4121b3e-feae-49ed-aa3a-209b4d68598d",
   "metadata": {},
   "source": [
    "Create a tensor with random values between 0 and 1 with shape [224,224,3]"
   ]
  },
  {
   "cell_type": "code",
   "execution_count": 16,
   "id": "969af69f-ed02-4fb2-9669-199defe92311",
   "metadata": {},
   "outputs": [
    {
     "name": "stdout",
     "output_type": "stream",
     "text": [
      "Random tensor:\n",
      "tf.Tensor(\n",
      "[[[0.5968492  0.01508689 0.44445503]\n",
      "  [0.9739535  0.5637455  0.33995473]\n",
      "  [0.73984456 0.41404307 0.9158573 ]\n",
      "  ...\n",
      "  [0.57380795 0.39030337 0.43301892]\n",
      "  [0.29906273 0.12536502 0.907575  ]\n",
      "  [0.88520706 0.12134576 0.72304416]]\n",
      "\n",
      " [[0.18428218 0.78424776 0.813967  ]\n",
      "  [0.9637066  0.38206077 0.83242524]\n",
      "  [0.80342853 0.24510765 0.10894692]\n",
      "  ...\n",
      "  [0.8565502  0.91981804 0.23207664]\n",
      "  [0.11873019 0.7200178  0.57989335]\n",
      "  [0.15274107 0.35841978 0.08689654]]\n",
      "\n",
      " [[0.11955893 0.98009133 0.42567062]\n",
      "  [0.7521633  0.52666986 0.7897953 ]\n",
      "  [0.77240515 0.7374661  0.96494937]\n",
      "  ...\n",
      "  [0.68090487 0.03227317 0.8689269 ]\n",
      "  [0.63291657 0.907596   0.04608107]\n",
      "  [0.33027554 0.66045845 0.33965492]]\n",
      "\n",
      " ...\n",
      "\n",
      " [[0.12440848 0.01556516 0.47028208]\n",
      "  [0.27419674 0.8925979  0.8211752 ]\n",
      "  [0.15623724 0.10124159 0.38014472]\n",
      "  ...\n",
      "  [0.85415876 0.36432338 0.84993315]\n",
      "  [0.31461358 0.68668556 0.9537158 ]\n",
      "  [0.11652279 0.12533963 0.45865262]]\n",
      "\n",
      " [[0.61932206 0.92234206 0.02011538]\n",
      "  [0.9834056  0.25470722 0.01460576]\n",
      "  [0.3451724  0.38195872 0.6476512 ]\n",
      "  ...\n",
      "  [0.6227808  0.74562    0.5848305 ]\n",
      "  [0.03271067 0.51903474 0.2281611 ]\n",
      "  [0.43174314 0.6022476  0.8301704 ]]\n",
      "\n",
      " [[0.2823639  0.70078623 0.9927435 ]\n",
      "  [0.94272804 0.31721938 0.01752198]\n",
      "  [0.3881781  0.17054808 0.21213913]\n",
      "  ...\n",
      "  [0.882398   0.8497833  0.7064971 ]\n",
      "  [0.02096558 0.8745903  0.8382803 ]\n",
      "  [0.03338385 0.7168411  0.40695953]]], shape=(224, 224, 3), dtype=float32)\n"
     ]
    }
   ],
   "source": [
    "random_tensor = tf.random.uniform([224, 224, 3], minval=0, maxval=1, dtype=tf.float32)\n",
    "print(\"Random tensor:\")\n",
    "print(random_tensor)"
   ]
  },
  {
   "cell_type": "markdown",
   "id": "71693a0c-1b94-4e87-959b-e05da7b8f757",
   "metadata": {},
   "source": [
    "7. Find the min and max values of the tensor"
   ]
  },
  {
   "cell_type": "code",
   "execution_count": 12,
   "id": "0ea88b00-9bed-4b4b-9b3a-230e2a0544ab",
   "metadata": {},
   "outputs": [
    {
     "name": "stdout",
     "output_type": "stream",
     "text": [
      "Min value of tensor: 8.34465e-07\n",
      "Max value of tensor: 0.9999801\n"
     ]
    }
   ],
   "source": [
    "min_value = tf.reduce_min(random_tensor)\n",
    "max_value = tf.reduce_max(random_tensor)\n",
    "print(\"Min value of tensor:\", min_value.numpy())\n",
    "print(\"Max value of tensor:\", max_value.numpy())"
   ]
  },
  {
   "cell_type": "markdown",
   "id": "3ccebc4b-4bdc-4d42-82ba-bedff8abb035",
   "metadata": {},
   "source": [
    "8. Create a tensor with random values of shape [1, 224, 224, 3] then squeeze it to change the shape to [224, 224, 3]"
   ]
  },
  {
   "cell_type": "code",
   "execution_count": 13,
   "id": "1ed04348-4d1d-4475-9aed-21b971f1d400",
   "metadata": {},
   "outputs": [
    {
     "name": "stdout",
     "output_type": "stream",
     "text": [
      "Shape of tensor after squeezing: (224, 224, 3)\n"
     ]
    }
   ],
   "source": [
    "random_tensor_4d = tf.random.uniform([1, 224, 224, 3], minval=0, maxval=1, dtype=tf.float32)\n",
    "squeezed_tensor = tf.squeeze(random_tensor_4d)\n",
    "print(\"Shape of tensor after squeezing:\", squeezed_tensor.shape)"
   ]
  },
  {
   "cell_type": "markdown",
   "id": "67da4c13-9031-4be4-a9a8-6885908c8a5e",
   "metadata": {},
   "source": [
    "9. Create a tensor with shape [10] using your own choice of values, then find the index which has the maximum value"
   ]
  },
  {
   "cell_type": "code",
   "execution_count": 14,
   "id": "48e11dac-c548-4263-ad93-3ec55c9d0c4b",
   "metadata": {},
   "outputs": [
    {
     "name": "stdout",
     "output_type": "stream",
     "text": [
      "Index of max value: 3\n"
     ]
    }
   ],
   "source": [
    "my_tensor = tf.constant([1.0, 5.0, 3.0, 9.0, 7.0, 6.0, 2.0, 8.0, 4.0, 0.0])\n",
    "max_index = tf.argmax(my_tensor)\n",
    "print(\"Index of max value:\", max_index.numpy())"
   ]
  },
  {
   "cell_type": "markdown",
   "id": "71b9fc2e-0cdf-44cf-b006-f0e41f79b8aa",
   "metadata": {},
   "source": [
    "10. One-hot encode the tensor you have created in 9"
   ]
  },
  {
   "cell_type": "code",
   "execution_count": 15,
   "id": "7b8723ec-b89e-4f53-9e2c-bd01d93af3ce",
   "metadata": {},
   "outputs": [
    {
     "name": "stdout",
     "output_type": "stream",
     "text": [
      "One-hot encoded tensor: [0. 0. 0. 1. 0. 0. 0. 0. 0. 0.]\n"
     ]
    }
   ],
   "source": [
    "one_hot_encoded = tf.one_hot(max_index, depth=10)\n",
    "print(\"One-hot encoded tensor:\", one_hot_encoded.numpy())"
   ]
  },
  {
   "cell_type": "code",
   "execution_count": null,
   "id": "949025a0-10ef-42d4-a711-90d6b38b3d2c",
   "metadata": {},
   "outputs": [],
   "source": []
  }
 ],
 "metadata": {
  "kernelspec": {
   "display_name": "Python 3 (ipykernel)",
   "language": "python",
   "name": "python3"
  },
  "language_info": {
   "codemirror_mode": {
    "name": "ipython",
    "version": 3
   },
   "file_extension": ".py",
   "mimetype": "text/x-python",
   "name": "python",
   "nbconvert_exporter": "python",
   "pygments_lexer": "ipython3",
   "version": "3.10.12"
  }
 },
 "nbformat": 4,
 "nbformat_minor": 5
}
