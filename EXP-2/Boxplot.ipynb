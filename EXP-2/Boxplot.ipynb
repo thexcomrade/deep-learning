{
 "cells": [
  {
   "cell_type": "code",
   "execution_count": 1,
   "id": "1b27c7f0-4f3d-4612-82d3-3693bed735ad",
   "metadata": {},
   "outputs": [
    {
     "name": "stdout",
     "output_type": "stream",
     "text": [
      "<class 'pandas.core.frame.DataFrame'>\n",
      "RangeIndex: 1000 entries, 0 to 999\n",
      "Data columns (total 2 columns):\n",
      " #   Column                Non-Null Count  Dtype  \n",
      "---  ------                --------------  -----  \n",
      " 0   exp(in months)        1000 non-null   float64\n",
      " 1   salary(in thousands)  1000 non-null   float64\n",
      "dtypes: float64(2)\n",
      "memory usage: 15.8 KB\n"
     ]
    }
   ],
   "source": [
    "import pandas as pd\n",
    "df = pd.read_csv(\"C://Users//HP//OneDrive//Documents//Experience-Salary.csv\")\n",
    "df.info()"
   ]
  },
  {
   "cell_type": "code",
   "execution_count": 2,
   "id": "003d08bd-3ef7-44c7-9451-70341bf79636",
   "metadata": {},
   "outputs": [
    {
     "name": "stderr",
     "output_type": "stream",
     "text": [
      "C:\\Users\\HP\\AppData\\Local\\Temp\\ipykernel_14080\\460110657.py:2: MatplotlibDeprecationWarning: The 'labels' parameter of boxplot() has been renamed 'tick_labels' since Matplotlib 3.9; support for the old name will be dropped in 3.11.\n",
      "  plt.boxplot(df, labels=[\"X\", \"Y\"])\n"
     ]
    },
    {
     "data": {
      "text/plain": [
       "[]"
      ]
     },
     "execution_count": 2,
     "metadata": {},
     "output_type": "execute_result"
    },
    {
     "data": {
      "image/png": "[encoded data removed]",
      "text/plain": [
       "<Figure size 640x480 with 1 Axes>"
      ]
     },
     "metadata": {},
     "output_type": "display_data"
    }
   ],
   "source": [
    "import matplotlib.pyplot as plt\n",
    "plt.boxplot(df, labels=[\"X\", \"Y\"])\n",
    "plt.plot()"
   ]
  },
  {
   "cell_type": "code",
   "execution_count": 6,
   "id": "6581e46e-fe25-4cc6-9cb9-b7f7ce4a152f",
   "metadata": {},
   "outputs": [
    {
     "name": "stdout",
     "output_type": "stream",
     "text": [
      "[772, 133, 86, 504, 47]\n"
     ]
    }
   ],
   "source": [
    "import numpy as np\n",
    "def get_outliers_z_score(data, threshold=2.8):\n",
    "    '''\n",
    "    Returns a set of index with data having z-score value which are above \n",
    "    the threshold value\n",
    "    '''\n",
    "    mean = np.mean(data)\n",
    "    std = np.std(data)\n",
    "    size = len(data)\n",
    "    outliers = list()\n",
    "    for i in range(size):\n",
    "        z_score = (data[i] - mean) / std\n",
    "        if np.abs(z_score) > threshold:\n",
    "            outliers.append(i)       \n",
    "    return set(outliers)\n",
    "\n",
    "outliers = list(get_outliers_z_score(list(df.iloc[:,0])).union(get_outliers_z_score(list(df.iloc[:,1]))))\n",
    "print(outliers)\n",
    "new_df = df.drop(index=outliers)"
   ]
  },
  {
   "cell_type": "code",
   "execution_count": 7,
   "id": "c8ad65b5-30fe-46f3-bb57-36f936b5dac6",
   "metadata": {},
   "outputs": [
    {
     "name": "stderr",
     "output_type": "stream",
     "text": [
      "C:\\Users\\HP\\AppData\\Local\\Temp\\ipykernel_14080\\3696476944.py:1: MatplotlibDeprecationWarning: The 'labels' parameter of boxplot() has been renamed 'tick_labels' since Matplotlib 3.9; support for the old name will be dropped in 3.11.\n",
      "  plt.boxplot(new_df, labels=[\"X\", \"Y\"])\n"
     ]
    },
    {
     "data": {
      "text/plain": [
       "[]"
      ]
     },
     "execution_count": 7,
     "metadata": {},
     "output_type": "execute_result"
    },
    {
     "data": {
      "image/png": "[encoded data removed]",
      "text/plain": [
       "<Figure size 640x480 with 1 Axes>"
      ]
     },
     "metadata": {},
     "output_type": "display_data"
    }
   ],
   "source": [
    "plt.boxplot(new_df, labels=[\"X\", \"Y\"])\n",
    "plt.plot()"
   ]
  },
  {
   "cell_type": "code",
   "execution_count": 9,
   "id": "d6bae47a-b536-4df4-9ec4-ecf7882cdf51",
   "metadata": {},
   "outputs": [
    {
     "name": "stdout",
     "output_type": "stream",
     "text": [
      "[772, 133, 86, 504, 47]\n"
     ]
    }
   ],
   "source": [
    "def get_outliers_IQR(data):\n",
    "    '''\n",
    "    Returns a set of index of the outliers\n",
    "    '''\n",
    "    q1, q3 = np.percentile(data, [25, 75])\n",
    "    iqr = q3-q1\n",
    "    lower = q1 - 1.5*iqr\n",
    "    upper = q3 + 1.5*iqr\n",
    "    outliers = [i for i,j in enumerate(data) if j < lower or j > upper]\n",
    "    return set(outliers)\n",
    "\n",
    "iqr_outliers = list(get_outliers_IQR(list(df.iloc[:,0])).union(get_outliers_IQR(list(df.iloc[:,1]))))\n",
    "print(iqr_outliers)\n",
    "iqr_new_df = df.drop(index=iqr_outliers)"
   ]
  },
  {
   "cell_type": "code",
   "execution_count": 10,
   "id": "6f9121a6-e634-47d6-ab1a-86b866169d73",
   "metadata": {},
   "outputs": [
    {
     "name": "stderr",
     "output_type": "stream",
     "text": [
      "C:\\Users\\HP\\AppData\\Local\\Temp\\ipykernel_14080\\3505502529.py:1: MatplotlibDeprecationWarning: The 'labels' parameter of boxplot() has been renamed 'tick_labels' since Matplotlib 3.9; support for the old name will be dropped in 3.11.\n",
      "  plt.boxplot(iqr_new_df, labels=[\"X\", \"Y\"])\n"
     ]
    },
    {
     "data": {
      "text/plain": [
       "[]"
      ]
     },
     "execution_count": 10,
     "metadata": {},
     "output_type": "execute_result"
    },
    {
     "data": {
      "image/png": "[encoded data removed]",
      "text/plain": [
       "<Figure size 640x480 with 1 Axes>"
      ]
     },
     "metadata": {},
     "output_type": "display_data"
    }
   ],
   "source": [
    "plt.boxplot(iqr_new_df, labels=[\"X\", \"Y\"])\n",
    "plt.plot()"
   ]
  },
  {
   "cell_type": "code",
   "execution_count": null,
   "id": "48e16dac-2ae1-4add-9811-a93907a509cf",
   "metadata": {},
   "outputs": [],
   "source": []
  }
 ],
 "metadata": {
  "kernelspec": {
   "display_name": "Python 3 (ipykernel)",
   "language": "python",
   "name": "python3"
  },
  "language_info": {
   "codemirror_mode": {
    "name": "ipython",
    "version": 3
   },
   "file_extension": ".py",
   "mimetype": "text/x-python",
   "name": "python",
   "nbconvert_exporter": "python",
   "pygments_lexer": "ipython3",
   "version": "3.13.2"
  }
 },
 "nbformat": 4,
 "nbformat_minor": 5
}
